{
 "cells": [
  {
   "cell_type": "markdown",
   "metadata": {},
   "source": [
    "### LSTM (Long Short-Term Memory Networks)"
   ]
  },
  {
   "cell_type": "code",
   "execution_count": 1,
   "metadata": {},
   "outputs": [],
   "source": [
    "import pandas as pd\n",
    "import numpy as np\n",
    "import matplotlib.pyplot as plt \n",
    "import tensorflow as tf\n",
    "from tensorflow import keras\n",
    "from sklearn.metrics import mean_squared_error\n",
    "from sklearn.metrics import r2_score\n",
    "from sklearn.preprocessing import StandardScaler\n",
    "from pandas.plotting import register_matplotlib_converters\n",
    "register_matplotlib_converters()\n",
    "%matplotlib inline"
   ]
  },
  {
   "cell_type": "code",
   "execution_count": 2,
   "metadata": {},
   "outputs": [],
   "source": [
    "sales = pd.read_csv('dataset/sales_dataset.csv', parse_dates=True, index_col=0)"
   ]
  },
  {
   "cell_type": "code",
   "execution_count": 3,
   "metadata": {},
   "outputs": [],
   "source": [
    "target = np.array(sales.Sales)"
   ]
  },
  {
   "cell_type": "code",
   "execution_count": 4,
   "metadata": {},
   "outputs": [],
   "source": [
    "train_target = target[:-9].reshape(-1,1)\n",
    "test_target = target[-9:].reshape(-1,1)"
   ]
  },
  {
   "cell_type": "code",
   "execution_count": 5,
   "metadata": {},
   "outputs": [],
   "source": [
    "scaler = StandardScaler()\n",
    "scaler.fit(train_target)\n",
    "scaledTrainData = scaler.transform(train_target)\n",
    "scaledTestData = scaler.transform(test_target)"
   ]
  },
  {
   "cell_type": "code",
   "execution_count": 6,
   "metadata": {},
   "outputs": [],
   "source": [
    "def create_dataset(X, y, time_steps):\n",
    "    Xs, ys = [], []\n",
    "    for i in range(len(X) - time_steps):\n",
    "        v = X[i:(i + time_steps)]\n",
    "        Xs.append(v)\n",
    "        ys.append(y[i + time_steps])\n",
    "    return np.array(Xs).reshape(-1,time_steps,1), np.array(ys)"
   ]
  },
  {
   "cell_type": "code",
   "execution_count": 7,
   "metadata": {},
   "outputs": [],
   "source": [
    "time_steps=12\n",
    "X_train, y_train = create_dataset(scaledTrainData, scaledTrainData, time_steps)"
   ]
  },
  {
   "cell_type": "code",
   "execution_count": 8,
   "metadata": {},
   "outputs": [
    {
     "data": {
      "text/plain": [
       "((84, 12, 1), (84, 1))"
      ]
     },
     "execution_count": 8,
     "metadata": {},
     "output_type": "execute_result"
    }
   ],
   "source": [
    "X_train.shape, y_train.shape"
   ]
  },
  {
   "cell_type": "code",
   "execution_count": 17,
   "metadata": {},
   "outputs": [],
   "source": [
    "model = keras.Sequential()\n",
    "model.add(keras.layers.LSTM(\n",
    "  units=70,\n",
    "  return_sequences=True,  \n",
    "  input_shape=(X_train.shape[1], X_train.shape[2])\n",
    "))\n",
    "model.add(keras.layers.LSTM(units=70, return_sequences=True))\n",
    "model.add(keras.layers.LSTM(units=70))\n",
    "model.add(keras.layers.Dense(units=1))\n",
    "model.compile(\n",
    "  loss='mean_squared_error',\n",
    "  optimizer=keras.optimizers.Adam(0.001)\n",
    ")"
   ]
  },
  {
   "cell_type": "code",
   "execution_count": 18,
   "metadata": {},
   "outputs": [
    {
     "name": "stdout",
     "output_type": "stream",
     "text": [
      "Train on 75 samples, validate on 9 samples\n",
      "Epoch 1/250\n",
      "75/75 [==============================] - 3s 41ms/sample - loss: 0.9869 - val_loss: 1.5919\n",
      "Epoch 2/250\n",
      "75/75 [==============================] - 0s 1ms/sample - loss: 0.9122 - val_loss: 1.3555\n",
      "Epoch 3/250\n",
      "75/75 [==============================] - 0s 1000us/sample - loss: 0.7777 - val_loss: 1.0474\n",
      "Epoch 4/250\n",
      "75/75 [==============================] - 0s 963us/sample - loss: 0.6489 - val_loss: 0.8397\n",
      "Epoch 5/250\n",
      "75/75 [==============================] - 0s 972us/sample - loss: 0.4952 - val_loss: 0.6717\n",
      "Epoch 6/250\n",
      "75/75 [==============================] - 0s 949us/sample - loss: 0.3126 - val_loss: 0.5194\n",
      "Epoch 7/250\n",
      "75/75 [==============================] - 0s 980us/sample - loss: 0.3226 - val_loss: 0.4347\n",
      "Epoch 8/250\n",
      "75/75 [==============================] - 0s 957us/sample - loss: 0.4819 - val_loss: 0.9901\n",
      "Epoch 9/250\n",
      "75/75 [==============================] - 0s 993us/sample - loss: 0.5574 - val_loss: 0.7564\n",
      "Epoch 10/250\n",
      "75/75 [==============================] - 0s 952us/sample - loss: 0.3272 - val_loss: 0.5987\n",
      "Epoch 11/250\n",
      "75/75 [==============================] - 0s 983us/sample - loss: 0.3189 - val_loss: 0.4694\n",
      "Epoch 12/250\n",
      "75/75 [==============================] - 0s 961us/sample - loss: 0.2952 - val_loss: 0.5959\n",
      "Epoch 13/250\n",
      "75/75 [==============================] - 0s 964us/sample - loss: 0.2783 - val_loss: 0.4546\n",
      "Epoch 14/250\n",
      "75/75 [==============================] - 0s 985us/sample - loss: 0.2327 - val_loss: 0.3924\n",
      "Epoch 15/250\n",
      "75/75 [==============================] - 0s 948us/sample - loss: 0.2140 - val_loss: 0.4576\n",
      "Epoch 16/250\n",
      "75/75 [==============================] - 0s 982us/sample - loss: 0.2010 - val_loss: 0.4059\n",
      "Epoch 17/250\n",
      "75/75 [==============================] - 0s 950us/sample - loss: 0.1837 - val_loss: 0.3226\n",
      "Epoch 18/250\n",
      "75/75 [==============================] - 0s 954us/sample - loss: 0.1748 - val_loss: 0.3600\n",
      "Epoch 19/250\n",
      "75/75 [==============================] - 0s 989us/sample - loss: 0.1688 - val_loss: 0.2959\n",
      "Epoch 20/250\n",
      "75/75 [==============================] - 0s 972us/sample - loss: 0.1630 - val_loss: 0.3009\n",
      "Epoch 21/250\n",
      "75/75 [==============================] - 0s 967us/sample - loss: 0.1622 - val_loss: 0.2849\n",
      "Epoch 22/250\n",
      "75/75 [==============================] - 0s 974us/sample - loss: 0.1565 - val_loss: 0.2808\n",
      "Epoch 23/250\n",
      "75/75 [==============================] - 0s 966us/sample - loss: 0.1552 - val_loss: 0.2676\n",
      "Epoch 24/250\n",
      "75/75 [==============================] - 0s 961us/sample - loss: 0.1497 - val_loss: 0.2549\n",
      "Epoch 25/250\n",
      "75/75 [==============================] - 0s 972us/sample - loss: 0.1491 - val_loss: 0.2514\n",
      "Epoch 26/250\n",
      "75/75 [==============================] - 0s 959us/sample - loss: 0.1440 - val_loss: 0.2448\n",
      "Epoch 27/250\n",
      "75/75 [==============================] - 0s 970us/sample - loss: 0.1433 - val_loss: 0.2402\n",
      "Epoch 28/250\n",
      "75/75 [==============================] - 0s 953us/sample - loss: 0.1393 - val_loss: 0.2418\n",
      "Epoch 29/250\n",
      "75/75 [==============================] - 0s 971us/sample - loss: 0.1386 - val_loss: 0.2279\n",
      "Epoch 30/250\n",
      "75/75 [==============================] - 0s 990us/sample - loss: 0.1355 - val_loss: 0.2378\n",
      "Epoch 31/250\n",
      "75/75 [==============================] - 0s 951us/sample - loss: 0.1354 - val_loss: 0.2117\n",
      "Epoch 32/250\n",
      "75/75 [==============================] - 0s 967us/sample - loss: 0.1331 - val_loss: 0.2358\n",
      "Epoch 33/250\n",
      "75/75 [==============================] - 0s 976us/sample - loss: 0.1343 - val_loss: 0.1932\n",
      "Epoch 34/250\n",
      "75/75 [==============================] - 0s 970us/sample - loss: 0.1337 - val_loss: 0.2390\n",
      "Epoch 35/250\n",
      "75/75 [==============================] - 0s 982us/sample - loss: 0.1380 - val_loss: 0.1736\n",
      "Epoch 36/250\n",
      "75/75 [==============================] - 0s 988us/sample - loss: 0.1410 - val_loss: 0.2450\n",
      "Epoch 37/250\n",
      "75/75 [==============================] - 0s 976us/sample - loss: 0.1517 - val_loss: 0.1621\n",
      "Epoch 38/250\n",
      "75/75 [==============================] - 0s 971us/sample - loss: 0.1579 - val_loss: 0.2273\n",
      "Epoch 39/250\n",
      "75/75 [==============================] - 0s 976us/sample - loss: 0.1699 - val_loss: 0.1850\n",
      "Epoch 40/250\n",
      "75/75 [==============================] - 0s 977us/sample - loss: 0.1620 - val_loss: 0.1792\n",
      "Epoch 41/250\n",
      "75/75 [==============================] - 0s 957us/sample - loss: 0.1527 - val_loss: 0.2297\n",
      "Epoch 42/250\n",
      "75/75 [==============================] - 0s 973us/sample - loss: 0.1452 - val_loss: 0.1786\n",
      "Epoch 43/250\n",
      "75/75 [==============================] - 0s 939us/sample - loss: 0.1364 - val_loss: 0.1823\n",
      "Epoch 44/250\n",
      "75/75 [==============================] - 0s 975us/sample - loss: 0.1615 - val_loss: 0.2411\n",
      "Epoch 45/250\n",
      "75/75 [==============================] - 0s 981us/sample - loss: 0.1673 - val_loss: 0.1255\n",
      "Epoch 46/250\n",
      "75/75 [==============================] - 0s 989us/sample - loss: 0.1825 - val_loss: 0.2159\n",
      "Epoch 47/250\n",
      "75/75 [==============================] - 0s 965us/sample - loss: 0.1908 - val_loss: 0.1811\n",
      "Epoch 48/250\n",
      "75/75 [==============================] - 0s 976us/sample - loss: 0.1480 - val_loss: 0.0923\n",
      "Epoch 49/250\n",
      "75/75 [==============================] - 0s 964us/sample - loss: 0.1596 - val_loss: 0.1548\n",
      "Epoch 50/250\n",
      "75/75 [==============================] - 0s 952us/sample - loss: 0.1428 - val_loss: 0.1942\n",
      "Epoch 51/250\n",
      "75/75 [==============================] - 0s 988us/sample - loss: 0.1371 - val_loss: 0.1714\n",
      "Epoch 52/250\n",
      "75/75 [==============================] - 0s 985us/sample - loss: 0.1286 - val_loss: 0.1589\n",
      "Epoch 53/250\n",
      "75/75 [==============================] - 0s 984us/sample - loss: 0.1233 - val_loss: 0.1713\n",
      "Epoch 54/250\n",
      "75/75 [==============================] - 0s 977us/sample - loss: 0.1199 - val_loss: 0.1789\n",
      "Epoch 55/250\n",
      "75/75 [==============================] - 0s 966us/sample - loss: 0.1141 - val_loss: 0.1676\n",
      "Epoch 56/250\n",
      "75/75 [==============================] - 0s 966us/sample - loss: 0.1144 - val_loss: 0.1871\n",
      "Epoch 57/250\n",
      "75/75 [==============================] - 0s 979us/sample - loss: 0.1103 - val_loss: 0.1675\n",
      "Epoch 58/250\n",
      "75/75 [==============================] - 0s 954us/sample - loss: 0.1097 - val_loss: 0.1769\n",
      "Epoch 59/250\n",
      "75/75 [==============================] - 0s 973us/sample - loss: 0.1069 - val_loss: 0.1545\n",
      "Epoch 60/250\n",
      "75/75 [==============================] - 0s 972us/sample - loss: 0.1069 - val_loss: 0.1719\n",
      "Epoch 61/250\n",
      "75/75 [==============================] - 0s 1ms/sample - loss: 0.1060 - val_loss: 0.1358\n",
      "Epoch 62/250\n",
      "75/75 [==============================] - 0s 991us/sample - loss: 0.1102 - val_loss: 0.1847\n",
      "Epoch 63/250\n",
      "75/75 [==============================] - 0s 983us/sample - loss: 0.1185 - val_loss: 0.1059\n",
      "Epoch 64/250\n",
      "75/75 [==============================] - 0s 945us/sample - loss: 0.1434 - val_loss: 0.2297\n",
      "Epoch 65/250\n",
      "75/75 [==============================] - 0s 976us/sample - loss: 0.1958 - val_loss: 0.0704\n",
      "Epoch 66/250\n",
      "75/75 [==============================] - 0s 978us/sample - loss: 0.2187 - val_loss: 0.2111\n",
      "Epoch 67/250\n",
      "75/75 [==============================] - 0s 980us/sample - loss: 0.2594 - val_loss: 0.2131\n",
      "Epoch 68/250\n",
      "75/75 [==============================] - 0s 957us/sample - loss: 0.1476 - val_loss: 0.0879\n",
      "Epoch 69/250\n",
      "75/75 [==============================] - 0s 976us/sample - loss: 0.1499 - val_loss: 0.1659\n",
      "Epoch 70/250\n",
      "75/75 [==============================] - 0s 1000us/sample - loss: 0.1457 - val_loss: 0.2049\n",
      "Epoch 71/250\n",
      "75/75 [==============================] - 0s 985us/sample - loss: 0.1258 - val_loss: 0.1250\n",
      "Epoch 72/250\n",
      "75/75 [==============================] - 0s 959us/sample - loss: 0.1173 - val_loss: 0.1554\n",
      "Epoch 73/250\n",
      "75/75 [==============================] - 0s 988us/sample - loss: 0.1108 - val_loss: 0.1573\n",
      "Epoch 74/250\n",
      "75/75 [==============================] - 0s 940us/sample - loss: 0.1073 - val_loss: 0.1539\n",
      "Epoch 75/250\n",
      "75/75 [==============================] - 0s 946us/sample - loss: 0.1045 - val_loss: 0.1528\n",
      "Epoch 76/250\n",
      "75/75 [==============================] - 0s 981us/sample - loss: 0.1022 - val_loss: 0.1643\n",
      "Epoch 77/250\n",
      "75/75 [==============================] - 0s 956us/sample - loss: 0.1004 - val_loss: 0.1416\n",
      "Epoch 78/250\n",
      "75/75 [==============================] - 0s 963us/sample - loss: 0.1012 - val_loss: 0.1604\n",
      "Epoch 79/250\n"
     ]
    },
    {
     "name": "stdout",
     "output_type": "stream",
     "text": [
      "75/75 [==============================] - 0s 974us/sample - loss: 0.1004 - val_loss: 0.1198\n",
      "Epoch 80/250\n",
      "75/75 [==============================] - 0s 971us/sample - loss: 0.1077 - val_loss: 0.1717\n",
      "Epoch 81/250\n",
      "75/75 [==============================] - 0s 992us/sample - loss: 0.1184 - val_loss: 0.0952\n",
      "Epoch 82/250\n",
      "75/75 [==============================] - 0s 941us/sample - loss: 0.1321 - val_loss: 0.1941\n",
      "Epoch 83/250\n",
      "75/75 [==============================] - 0s 931us/sample - loss: 0.1612 - val_loss: 0.0918\n",
      "Epoch 84/250\n",
      "75/75 [==============================] - 0s 1ms/sample - loss: 0.1270 - val_loss: 0.1031\n",
      "Epoch 85/250\n",
      "75/75 [==============================] - 0s 983us/sample - loss: 0.1106 - val_loss: 0.1603\n",
      "Epoch 86/250\n",
      "75/75 [==============================] - 0s 996us/sample - loss: 0.1051 - val_loss: 0.1024\n",
      "Epoch 87/250\n",
      "75/75 [==============================] - 0s 960us/sample - loss: 0.1035 - val_loss: 0.1328\n",
      "Epoch 88/250\n",
      "75/75 [==============================] - 0s 959us/sample - loss: 0.0991 - val_loss: 0.1435\n",
      "Epoch 89/250\n",
      "75/75 [==============================] - 0s 992us/sample - loss: 0.0947 - val_loss: 0.1227\n",
      "Epoch 90/250\n",
      "75/75 [==============================] - 0s 973us/sample - loss: 0.0950 - val_loss: 0.1476\n",
      "Epoch 91/250\n",
      "75/75 [==============================] - 0s 947us/sample - loss: 0.0911 - val_loss: 0.1209\n",
      "Epoch 92/250\n",
      "75/75 [==============================] - 0s 977us/sample - loss: 0.0921 - val_loss: 0.1406\n",
      "Epoch 93/250\n",
      "75/75 [==============================] - 0s 1ms/sample - loss: 0.0908 - val_loss: 0.1072\n",
      "Epoch 94/250\n",
      "75/75 [==============================] - 0s 1ms/sample - loss: 0.0944 - val_loss: 0.1429\n",
      "Epoch 95/250\n",
      "75/75 [==============================] - 0s 1ms/sample - loss: 0.1031 - val_loss: 0.0865\n",
      "Epoch 96/250\n",
      "75/75 [==============================] - 0s 1ms/sample - loss: 0.1171 - val_loss: 0.1696\n",
      "Epoch 97/250\n",
      "75/75 [==============================] - 0s 981us/sample - loss: 0.1538 - val_loss: 0.0677\n",
      "Epoch 98/250\n",
      "75/75 [==============================] - 0s 1ms/sample - loss: 0.1421 - val_loss: 0.1417\n",
      "Epoch 99/250\n",
      "75/75 [==============================] - 0s 985us/sample - loss: 0.1556 - val_loss: 0.1216\n",
      "Epoch 100/250\n",
      "75/75 [==============================] - 0s 1ms/sample - loss: 0.1072 - val_loss: 0.0742\n",
      "Epoch 101/250\n",
      "75/75 [==============================] - 0s 960us/sample - loss: 0.1038 - val_loss: 0.1451\n",
      "Epoch 102/250\n",
      "75/75 [==============================] - 0s 1ms/sample - loss: 0.0980 - val_loss: 0.1235\n",
      "Epoch 103/250\n",
      "75/75 [==============================] - 0s 1ms/sample - loss: 0.0930 - val_loss: 0.1122\n",
      "Epoch 104/250\n",
      "75/75 [==============================] - 0s 1ms/sample - loss: 0.0922 - val_loss: 0.1421\n",
      "Epoch 105/250\n",
      "75/75 [==============================] - 0s 1ms/sample - loss: 0.0874 - val_loss: 0.1155\n",
      "Epoch 106/250\n",
      "75/75 [==============================] - 0s 1ms/sample - loss: 0.0869 - val_loss: 0.1313\n",
      "Epoch 107/250\n",
      "75/75 [==============================] - 0s 1ms/sample - loss: 0.0841 - val_loss: 0.1097\n",
      "Epoch 108/250\n",
      "75/75 [==============================] - 0s 1ms/sample - loss: 0.0838 - val_loss: 0.1202\n",
      "Epoch 109/250\n",
      "75/75 [==============================] - 0s 1ms/sample - loss: 0.0839 - val_loss: 0.0985\n",
      "Epoch 110/250\n",
      "75/75 [==============================] - 0s 987us/sample - loss: 0.0843 - val_loss: 0.1220\n",
      "Epoch 111/250\n",
      "75/75 [==============================] - 0s 972us/sample - loss: 0.0909 - val_loss: 0.0851\n",
      "Epoch 112/250\n",
      "75/75 [==============================] - 0s 1ms/sample - loss: 0.1014 - val_loss: 0.1453\n",
      "Epoch 113/250\n",
      "75/75 [==============================] - 0s 1ms/sample - loss: 0.1320 - val_loss: 0.0635\n",
      "Epoch 114/250\n",
      "75/75 [==============================] - 0s 970us/sample - loss: 0.1393 - val_loss: 0.1566\n",
      "Epoch 115/250\n",
      "75/75 [==============================] - 0s 990us/sample - loss: 0.1784 - val_loss: 0.0876\n",
      "Epoch 116/250\n",
      "75/75 [==============================] - 0s 953us/sample - loss: 0.1190 - val_loss: 0.0707\n",
      "Epoch 117/250\n",
      "75/75 [==============================] - 0s 939us/sample - loss: 0.1039 - val_loss: 0.1533\n",
      "Epoch 118/250\n",
      "75/75 [==============================] - 0s 928us/sample - loss: 0.0958 - val_loss: 0.1155\n",
      "Epoch 119/250\n",
      "75/75 [==============================] - 0s 931us/sample - loss: 0.0898 - val_loss: 0.1069\n",
      "Epoch 120/250\n",
      "75/75 [==============================] - 0s 936us/sample - loss: 0.0883 - val_loss: 0.1365\n",
      "Epoch 121/250\n",
      "75/75 [==============================] - 0s 942us/sample - loss: 0.0840 - val_loss: 0.1176\n",
      "Epoch 122/250\n",
      "75/75 [==============================] - 0s 940us/sample - loss: 0.0819 - val_loss: 0.1212\n",
      "Epoch 123/250\n",
      "75/75 [==============================] - 0s 954us/sample - loss: 0.0799 - val_loss: 0.1196\n",
      "Epoch 124/250\n",
      "75/75 [==============================] - 0s 930us/sample - loss: 0.0789 - val_loss: 0.1032\n",
      "Epoch 125/250\n",
      "75/75 [==============================] - 0s 1ms/sample - loss: 0.0786 - val_loss: 0.1140\n",
      "Epoch 126/250\n",
      "75/75 [==============================] - 0s 944us/sample - loss: 0.0793 - val_loss: 0.0906\n",
      "Epoch 127/250\n",
      "75/75 [==============================] - 0s 938us/sample - loss: 0.0794 - val_loss: 0.1175\n",
      "Epoch 128/250\n",
      "75/75 [==============================] - 0s 956us/sample - loss: 0.0860 - val_loss: 0.0805\n",
      "Epoch 129/250\n",
      "75/75 [==============================] - 0s 933us/sample - loss: 0.0902 - val_loss: 0.1307\n",
      "Epoch 130/250\n",
      "75/75 [==============================] - 0s 947us/sample - loss: 0.1100 - val_loss: 0.0670\n",
      "Epoch 131/250\n",
      "75/75 [==============================] - 0s 965us/sample - loss: 0.1068 - val_loss: 0.1269\n",
      "Epoch 132/250\n",
      "75/75 [==============================] - 0s 938us/sample - loss: 0.1253 - val_loss: 0.0794\n",
      "Epoch 133/250\n",
      "75/75 [==============================] - 0s 942us/sample - loss: 0.0962 - val_loss: 0.0880\n",
      "Epoch 134/250\n",
      "75/75 [==============================] - 0s 906us/sample - loss: 0.0892 - val_loss: 0.1201\n",
      "Epoch 135/250\n",
      "75/75 [==============================] - 0s 945us/sample - loss: 0.0782 - val_loss: 0.0950\n",
      "Epoch 136/250\n",
      "75/75 [==============================] - 0s 926us/sample - loss: 0.0771 - val_loss: 0.1153\n",
      "Epoch 137/250\n",
      "75/75 [==============================] - 0s 929us/sample - loss: 0.0752 - val_loss: 0.1042\n",
      "Epoch 138/250\n",
      "75/75 [==============================] - 0s 940us/sample - loss: 0.0738 - val_loss: 0.1034\n",
      "Epoch 139/250\n",
      "75/75 [==============================] - 0s 949us/sample - loss: 0.0743 - val_loss: 0.0992\n",
      "Epoch 140/250\n",
      "75/75 [==============================] - 0s 946us/sample - loss: 0.0724 - val_loss: 0.0927\n",
      "Epoch 141/250\n",
      "75/75 [==============================] - 0s 942us/sample - loss: 0.0727 - val_loss: 0.0955\n",
      "Epoch 142/250\n",
      "75/75 [==============================] - 0s 944us/sample - loss: 0.0712 - val_loss: 0.0900\n",
      "Epoch 143/250\n",
      "75/75 [==============================] - 0s 931us/sample - loss: 0.0712 - val_loss: 0.0991\n",
      "Epoch 144/250\n",
      "75/75 [==============================] - 0s 935us/sample - loss: 0.0710 - val_loss: 0.0879\n",
      "Epoch 145/250\n",
      "75/75 [==============================] - 0s 931us/sample - loss: 0.0726 - val_loss: 0.1062\n",
      "Epoch 146/250\n",
      "75/75 [==============================] - 0s 940us/sample - loss: 0.0768 - val_loss: 0.0792\n",
      "Epoch 147/250\n",
      "75/75 [==============================] - 0s 969us/sample - loss: 0.0859 - val_loss: 0.1236\n",
      "Epoch 148/250\n",
      "75/75 [==============================] - 0s 948us/sample - loss: 0.1113 - val_loss: 0.0646\n",
      "Epoch 149/250\n",
      "75/75 [==============================] - 0s 936us/sample - loss: 0.1243 - val_loss: 0.1356\n",
      "Epoch 150/250\n",
      "75/75 [==============================] - 0s 914us/sample - loss: 0.1683 - val_loss: 0.0731\n",
      "Epoch 151/250\n",
      "75/75 [==============================] - 0s 939us/sample - loss: 0.1206 - val_loss: 0.0853\n",
      "Epoch 152/250\n",
      "75/75 [==============================] - 0s 938us/sample - loss: 0.1031 - val_loss: 0.1388\n",
      "Epoch 153/250\n",
      "75/75 [==============================] - 0s 944us/sample - loss: 0.0766 - val_loss: 0.0960\n",
      "Epoch 154/250\n",
      "75/75 [==============================] - 0s 932us/sample - loss: 0.0773 - val_loss: 0.1090\n",
      "Epoch 155/250\n",
      "75/75 [==============================] - 0s 952us/sample - loss: 0.0770 - val_loss: 0.1090\n",
      "Epoch 156/250\n",
      "75/75 [==============================] - 0s 947us/sample - loss: 0.0735 - val_loss: 0.0938\n",
      "Epoch 157/250\n"
     ]
    },
    {
     "name": "stdout",
     "output_type": "stream",
     "text": [
      "75/75 [==============================] - 0s 925us/sample - loss: 0.0737 - val_loss: 0.1039\n",
      "Epoch 158/250\n",
      "75/75 [==============================] - 0s 944us/sample - loss: 0.0703 - val_loss: 0.0828\n",
      "Epoch 159/250\n",
      "75/75 [==============================] - 0s 924us/sample - loss: 0.0700 - val_loss: 0.0953\n",
      "Epoch 160/250\n",
      "75/75 [==============================] - 0s 948us/sample - loss: 0.0707 - val_loss: 0.0814\n",
      "Epoch 161/250\n",
      "75/75 [==============================] - 0s 937us/sample - loss: 0.0692 - val_loss: 0.0982\n",
      "Epoch 162/250\n",
      "75/75 [==============================] - 0s 913us/sample - loss: 0.0715 - val_loss: 0.0828\n",
      "Epoch 163/250\n",
      "75/75 [==============================] - 0s 946us/sample - loss: 0.0713 - val_loss: 0.1044\n",
      "Epoch 164/250\n",
      "75/75 [==============================] - 0s 941us/sample - loss: 0.0753 - val_loss: 0.0769\n",
      "Epoch 165/250\n",
      "75/75 [==============================] - 0s 945us/sample - loss: 0.0766 - val_loss: 0.1112\n",
      "Epoch 166/250\n",
      "75/75 [==============================] - 0s 938us/sample - loss: 0.0853 - val_loss: 0.0703\n",
      "Epoch 167/250\n",
      "75/75 [==============================] - 0s 935us/sample - loss: 0.0816 - val_loss: 0.1117\n",
      "Epoch 168/250\n",
      "75/75 [==============================] - 0s 939us/sample - loss: 0.0871 - val_loss: 0.0757\n",
      "Epoch 169/250\n",
      "75/75 [==============================] - 0s 928us/sample - loss: 0.0753 - val_loss: 0.0974\n",
      "Epoch 170/250\n",
      "75/75 [==============================] - 0s 922us/sample - loss: 0.0727 - val_loss: 0.0918\n",
      "Epoch 171/250\n",
      "75/75 [==============================] - 0s 944us/sample - loss: 0.0667 - val_loss: 0.0920\n",
      "Epoch 172/250\n",
      "75/75 [==============================] - 0s 921us/sample - loss: 0.0664 - val_loss: 0.0958\n",
      "Epoch 173/250\n",
      "75/75 [==============================] - 0s 936us/sample - loss: 0.0646 - val_loss: 0.0894\n",
      "Epoch 174/250\n",
      "75/75 [==============================] - 0s 930us/sample - loss: 0.0645 - val_loss: 0.0906\n",
      "Epoch 175/250\n",
      "75/75 [==============================] - 0s 929us/sample - loss: 0.0640 - val_loss: 0.0855\n",
      "Epoch 176/250\n",
      "75/75 [==============================] - 0s 927us/sample - loss: 0.0634 - val_loss: 0.0874\n",
      "Epoch 177/250\n",
      "75/75 [==============================] - 0s 938us/sample - loss: 0.0634 - val_loss: 0.0852\n",
      "Epoch 178/250\n",
      "75/75 [==============================] - 0s 934us/sample - loss: 0.0629 - val_loss: 0.0882\n",
      "Epoch 179/250\n",
      "75/75 [==============================] - 0s 944us/sample - loss: 0.0629 - val_loss: 0.0863\n",
      "Epoch 180/250\n",
      "75/75 [==============================] - 0s 950us/sample - loss: 0.0626 - val_loss: 0.0887\n",
      "Epoch 181/250\n",
      "75/75 [==============================] - 0s 939us/sample - loss: 0.0628 - val_loss: 0.0858\n",
      "Epoch 182/250\n",
      "75/75 [==============================] - 0s 946us/sample - loss: 0.0628 - val_loss: 0.0878\n",
      "Epoch 183/250\n",
      "75/75 [==============================] - 0s 936us/sample - loss: 0.0635 - val_loss: 0.0854\n",
      "Epoch 184/250\n",
      "75/75 [==============================] - 0s 937us/sample - loss: 0.0644 - val_loss: 0.0868\n",
      "Epoch 185/250\n",
      "75/75 [==============================] - 0s 936us/sample - loss: 0.0667 - val_loss: 0.0856\n",
      "Epoch 186/250\n",
      "75/75 [==============================] - 0s 945us/sample - loss: 0.0693 - val_loss: 0.0846\n",
      "Epoch 187/250\n",
      "75/75 [==============================] - 0s 933us/sample - loss: 0.0755 - val_loss: 0.0842\n",
      "Epoch 188/250\n",
      "75/75 [==============================] - 0s 949us/sample - loss: 0.0797 - val_loss: 0.0800\n",
      "Epoch 189/250\n",
      "75/75 [==============================] - 0s 940us/sample - loss: 0.0923 - val_loss: 0.0770\n",
      "Epoch 190/250\n",
      "75/75 [==============================] - 0s 943us/sample - loss: 0.0894 - val_loss: 0.0727\n",
      "Epoch 191/250\n",
      "75/75 [==============================] - 0s 943us/sample - loss: 0.0974 - val_loss: 0.0727\n",
      "Epoch 192/250\n",
      "75/75 [==============================] - 0s 954us/sample - loss: 0.0789 - val_loss: 0.0745\n",
      "Epoch 193/250\n",
      "75/75 [==============================] - 0s 930us/sample - loss: 0.0730 - val_loss: 0.0727\n",
      "Epoch 194/250\n",
      "75/75 [==============================] - 0s 945us/sample - loss: 0.0633 - val_loss: 0.0826\n",
      "Epoch 195/250\n",
      "75/75 [==============================] - 0s 958us/sample - loss: 0.0618 - val_loss: 0.0686\n",
      "Epoch 196/250\n",
      "75/75 [==============================] - 0s 937us/sample - loss: 0.0632 - val_loss: 0.0926\n",
      "Epoch 197/250\n",
      "75/75 [==============================] - 0s 922us/sample - loss: 0.0656 - val_loss: 0.0619\n",
      "Epoch 198/250\n",
      "75/75 [==============================] - 0s 948us/sample - loss: 0.0716 - val_loss: 0.1064\n",
      "Epoch 199/250\n",
      "75/75 [==============================] - 0s 955us/sample - loss: 0.0789 - val_loss: 0.0560\n",
      "Epoch 200/250\n",
      "75/75 [==============================] - 0s 934us/sample - loss: 0.0778 - val_loss: 0.1052\n",
      "Epoch 201/250\n",
      "75/75 [==============================] - 0s 945us/sample - loss: 0.0766 - val_loss: 0.0672\n",
      "Epoch 202/250\n",
      "75/75 [==============================] - 0s 952us/sample - loss: 0.0648 - val_loss: 0.0779\n",
      "Epoch 203/250\n",
      "75/75 [==============================] - 0s 960us/sample - loss: 0.0606 - val_loss: 0.0850\n",
      "Epoch 204/250\n",
      "75/75 [==============================] - 0s 944us/sample - loss: 0.0576 - val_loss: 0.0702\n",
      "Epoch 205/250\n",
      "75/75 [==============================] - 0s 954us/sample - loss: 0.0573 - val_loss: 0.0785\n",
      "Epoch 206/250\n",
      "75/75 [==============================] - 0s 954us/sample - loss: 0.0558 - val_loss: 0.0676\n",
      "Epoch 207/250\n",
      "75/75 [==============================] - 0s 933us/sample - loss: 0.0546 - val_loss: 0.0714\n",
      "Epoch 208/250\n",
      "75/75 [==============================] - 0s 952us/sample - loss: 0.0539 - val_loss: 0.0700\n",
      "Epoch 209/250\n",
      "75/75 [==============================] - 0s 945us/sample - loss: 0.0532 - val_loss: 0.0709\n",
      "Epoch 210/250\n",
      "75/75 [==============================] - 0s 944us/sample - loss: 0.0527 - val_loss: 0.0731\n",
      "Epoch 211/250\n",
      "75/75 [==============================] - 0s 932us/sample - loss: 0.0522 - val_loss: 0.0706\n",
      "Epoch 212/250\n",
      "75/75 [==============================] - 0s 964us/sample - loss: 0.0517 - val_loss: 0.0734\n",
      "Epoch 213/250\n",
      "75/75 [==============================] - 0s 964us/sample - loss: 0.0512 - val_loss: 0.0686\n",
      "Epoch 214/250\n",
      "75/75 [==============================] - 0s 952us/sample - loss: 0.0507 - val_loss: 0.0734\n",
      "Epoch 215/250\n",
      "75/75 [==============================] - 0s 956us/sample - loss: 0.0502 - val_loss: 0.0674\n",
      "Epoch 216/250\n",
      "75/75 [==============================] - 0s 951us/sample - loss: 0.0499 - val_loss: 0.0752\n",
      "Epoch 217/250\n",
      "75/75 [==============================] - 0s 925us/sample - loss: 0.0495 - val_loss: 0.0659\n",
      "Epoch 218/250\n",
      "75/75 [==============================] - 0s 957us/sample - loss: 0.0494 - val_loss: 0.0776\n",
      "Epoch 219/250\n",
      "75/75 [==============================] - 0s 964us/sample - loss: 0.0493 - val_loss: 0.0626\n",
      "Epoch 220/250\n",
      "75/75 [==============================] - 0s 929us/sample - loss: 0.0499 - val_loss: 0.0817\n",
      "Epoch 221/250\n",
      "75/75 [==============================] - 0s 956us/sample - loss: 0.0504 - val_loss: 0.0579\n",
      "Epoch 222/250\n",
      "75/75 [==============================] - 0s 944us/sample - loss: 0.0526 - val_loss: 0.0889\n",
      "Epoch 223/250\n",
      "75/75 [==============================] - 0s 946us/sample - loss: 0.0546 - val_loss: 0.0516\n",
      "Epoch 224/250\n",
      "75/75 [==============================] - 0s 941us/sample - loss: 0.0605 - val_loss: 0.0986\n",
      "Epoch 225/250\n",
      "75/75 [==============================] - 0s 939us/sample - loss: 0.0651 - val_loss: 0.0444\n",
      "Epoch 226/250\n",
      "75/75 [==============================] - 0s 955us/sample - loss: 0.0780 - val_loss: 0.1027\n",
      "Epoch 227/250\n",
      "75/75 [==============================] - 0s 945us/sample - loss: 0.0834 - val_loss: 0.0363\n",
      "Epoch 228/250\n",
      "75/75 [==============================] - 0s 955us/sample - loss: 0.1012 - val_loss: 0.0859\n",
      "Epoch 229/250\n",
      "75/75 [==============================] - 0s 966us/sample - loss: 0.0896 - val_loss: 0.0330\n",
      "Epoch 230/250\n",
      "75/75 [==============================] - 0s 928us/sample - loss: 0.0879 - val_loss: 0.0639\n",
      "Epoch 231/250\n",
      "75/75 [==============================] - 0s 935us/sample - loss: 0.0614 - val_loss: 0.0542\n",
      "Epoch 232/250\n",
      "75/75 [==============================] - 0s 946us/sample - loss: 0.0510 - val_loss: 0.0479\n",
      "Epoch 233/250\n",
      "75/75 [==============================] - 0s 967us/sample - loss: 0.0444 - val_loss: 0.0678\n",
      "Epoch 234/250\n",
      "75/75 [==============================] - 0s 957us/sample - loss: 0.0437 - val_loss: 0.0466\n",
      "Epoch 235/250\n"
     ]
    },
    {
     "name": "stdout",
     "output_type": "stream",
     "text": [
      "75/75 [==============================] - 0s 950us/sample - loss: 0.0435 - val_loss: 0.0674\n",
      "Epoch 236/250\n",
      "75/75 [==============================] - 0s 943us/sample - loss: 0.0420 - val_loss: 0.0521\n",
      "Epoch 237/250\n",
      "75/75 [==============================] - 0s 923us/sample - loss: 0.0410 - val_loss: 0.0631\n",
      "Epoch 238/250\n",
      "75/75 [==============================] - 0s 962us/sample - loss: 0.0398 - val_loss: 0.0594\n",
      "Epoch 239/250\n",
      "75/75 [==============================] - 0s 943us/sample - loss: 0.0390 - val_loss: 0.0614\n",
      "Epoch 240/250\n",
      "75/75 [==============================] - 0s 942us/sample - loss: 0.0385 - val_loss: 0.0623\n",
      "Epoch 241/250\n",
      "75/75 [==============================] - 0s 957us/sample - loss: 0.0378 - val_loss: 0.0604\n",
      "Epoch 242/250\n",
      "75/75 [==============================] - 0s 944us/sample - loss: 0.0376 - val_loss: 0.0627\n",
      "Epoch 243/250\n",
      "75/75 [==============================] - 0s 953us/sample - loss: 0.0370 - val_loss: 0.0607\n",
      "Epoch 244/250\n",
      "75/75 [==============================] - 0s 927us/sample - loss: 0.0368 - val_loss: 0.0621\n",
      "Epoch 245/250\n",
      "75/75 [==============================] - 0s 945us/sample - loss: 0.0363 - val_loss: 0.0612\n",
      "Epoch 246/250\n",
      "75/75 [==============================] - 0s 961us/sample - loss: 0.0359 - val_loss: 0.0610\n",
      "Epoch 247/250\n",
      "75/75 [==============================] - 0s 936us/sample - loss: 0.0355 - val_loss: 0.0615\n",
      "Epoch 248/250\n",
      "75/75 [==============================] - 0s 940us/sample - loss: 0.0352 - val_loss: 0.0600\n",
      "Epoch 249/250\n",
      "75/75 [==============================] - 0s 951us/sample - loss: 0.0349 - val_loss: 0.0618\n",
      "Epoch 250/250\n",
      "75/75 [==============================] - 0s 939us/sample - loss: 0.0346 - val_loss: 0.0589\n"
     ]
    }
   ],
   "source": [
    "history = model.fit(\n",
    "    X_train, y_train,\n",
    "    epochs=250,\n",
    "    batch_size=16,\n",
    "    validation_split=0.1,\n",
    "    verbose=1,\n",
    "    shuffle=False\n",
    ")"
   ]
  },
  {
   "cell_type": "code",
   "execution_count": 19,
   "metadata": {},
   "outputs": [],
   "source": [
    "ypred = []\n",
    "for i in range(len(scaledTestData)):\n",
    "    if i == 0:\n",
    "        ypred.append(model.predict(scaledTrainData[-12:].reshape(1,time_steps,1)))        \n",
    "    else:\n",
    "        prev_predictions = [x[0][0] for x in ypred]\n",
    "        ypred.append(model.predict(np.concatenate((scaledTrainData[-12+i:].reshape(-1),prev_predictions)) \\\n",
    "                                   .reshape(1,time_steps,1)))  "
   ]
  },
  {
   "cell_type": "code",
   "execution_count": 20,
   "metadata": {},
   "outputs": [
    {
     "data": {
      "text/plain": [
       "[array([[-0.38374257]], dtype=float32),\n",
       " array([[-0.41269282]], dtype=float32),\n",
       " array([[-0.40799436]], dtype=float32),\n",
       " array([[-0.33902773]], dtype=float32),\n",
       " array([[-0.30303952]], dtype=float32),\n",
       " array([[-0.30691248]], dtype=float32),\n",
       " array([[-0.50181156]], dtype=float32),\n",
       " array([[-1.1704886]], dtype=float32),\n",
       " array([[0.1604942]], dtype=float32)]"
      ]
     },
     "execution_count": 20,
     "metadata": {},
     "output_type": "execute_result"
    }
   ],
   "source": [
    "ypred"
   ]
  },
  {
   "cell_type": "code",
   "execution_count": 21,
   "metadata": {},
   "outputs": [],
   "source": [
    "ypred = [x[0][0] for x in ypred]"
   ]
  },
  {
   "cell_type": "code",
   "execution_count": 22,
   "metadata": {},
   "outputs": [
    {
     "data": {
      "text/plain": [
       "[-0.38374257,\n",
       " -0.41269282,\n",
       " -0.40799436,\n",
       " -0.33902773,\n",
       " -0.30303952,\n",
       " -0.30691248,\n",
       " -0.50181156,\n",
       " -1.1704886,\n",
       " 0.1604942]"
      ]
     },
     "execution_count": 22,
     "metadata": {},
     "output_type": "execute_result"
    }
   ],
   "source": [
    "ypred"
   ]
  },
  {
   "cell_type": "code",
   "execution_count": 23,
   "metadata": {},
   "outputs": [
    {
     "data": {
      "text/plain": [
       "array([3795., 3719., 3731., 3912., 4007., 3997., 3484., 1727., 5225.],\n",
       "      dtype=float32)"
      ]
     },
     "execution_count": 23,
     "metadata": {},
     "output_type": "execute_result"
    }
   ],
   "source": [
    "predictions = np.round(scaler.inverse_transform(ypred))\n",
    "predictions"
   ]
  },
  {
   "cell_type": "code",
   "execution_count": 24,
   "metadata": {},
   "outputs": [
    {
     "data": {
      "text/plain": [
       "752.9031219958589"
      ]
     },
     "execution_count": 24,
     "metadata": {},
     "output_type": "execute_result"
    }
   ],
   "source": [
    "np.sqrt(mean_squared_error(test_target,predictions))"
   ]
  },
  {
   "cell_type": "code",
   "execution_count": 25,
   "metadata": {},
   "outputs": [
    {
     "name": "stdout",
     "output_type": "stream",
     "text": [
      "R2 score for LSTM when root mean squared error is minimized is 0.60\n"
     ]
    }
   ],
   "source": [
    "print('R2 score for LSTM when root mean squared error is minimized is %.2f' %r2_score(test_target, predictions))"
   ]
  },
  {
   "cell_type": "code",
   "execution_count": 26,
   "metadata": {
    "scrolled": false
   },
   "outputs": [
    {
     "data": {
      "image/png": "[encoded data removed]",
      "text/plain": [
       "<Figure size 864x432 with 1 Axes>"
      ]
     },
     "metadata": {
      "needs_background": "light"
     },
     "output_type": "display_data"
    }
   ],
   "source": [
    "fig, ax = plt.subplots(figsize=(12,6))\n",
    "\n",
    "ax.plot(sales.index[-9:], sales.Sales[-9:], label='Sales');\n",
    "ax.plot(sales.index[-9:], predictions, label='Predictions');\n",
    "\n",
    "ax.set_xlim(sales.index[-9], sales.index[-1])\n",
    "\n",
    "ax.set_ylabel('Sales', fontsize=12)\n",
    "ax.set_xlabel('Time', fontsize=12)\n",
    "ax.set_title('RNN', fontsize=20)\n",
    "plt.legend(loc='upper left')\n",
    "plt.show()"
   ]
  },
  {
   "cell_type": "markdown",
   "metadata": {},
   "source": [
    "### Conclusion and Results"
   ]
  },
  {
   "cell_type": "markdown",
   "metadata": {},
   "source": [
    "The predictions are done by taking 12 time steps. For the prediciton of sales at 1992-01, the last 12 time steps from the training set are taken. For the prediction of sales at 1992-02, the last 11 time steps from the training set and the last prediction (prediction at 1992-01) are taken. For the prediction of sales at 1992-03, the last 10 time steps from the training set and the last 2 predicitions (predictions at 1992-01 and 1992-02) are taken. This continues untill all the predictions for sales are made for the last months.    "
   ]
  },
  {
   "cell_type": "markdown",
   "metadata": {},
   "source": [
    "The neural network topology designed using LSTM layers results in higher RMSE for the last 9 months compared to exponential smoothing, random forests and SARIMA. However, ridge regression is the model with the highest RMSE. "
   ]
  },
  {
   "cell_type": "markdown",
   "metadata": {},
   "source": [
    "This network can be fiddled with to try to decrease RMSE. Some of the options can be adding more layers, increasing the # of neurons in each layer, adding dropout layers, adding regularization, changing the learning rate and so on. The possible path for following can be decided after figuring out if overfitting or underfitting is the problem. When validation loss is compared with training loss, it seems that overfitting is the problem."
   ]
  },
  {
   "cell_type": "markdown",
   "metadata": {},
   "source": [
    "Since the RNN results are not as good as exponential smoothing results in terms of RMSE measured on the last 9 months, the results are not saved to a csv file. There is not too much training data for deep learning to work well. Deep learning can be a good option when there is abundant data to train on.  "
   ]
  }
 ],
 "metadata": {
  "kernelspec": {
   "display_name": "Python 3",
   "language": "python",
   "name": "python3"
  },
  "language_info": {
   "codemirror_mode": {
    "name": "ipython",
    "version": 3
   },
   "file_extension": ".py",
   "mimetype": "text/x-python",
   "name": "python",
   "nbconvert_exporter": "python",
   "pygments_lexer": "ipython3",
   "version": "3.7.4"
  }
 },
 "nbformat": 4,
 "nbformat_minor": 2
}
