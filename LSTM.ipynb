{
 "cells": [
  {
   "cell_type": "markdown",
   "metadata": {},
   "source": [
    "### LSTM (Long Short-Term Memory Networks)"
   ]
  },
  {
   "cell_type": "code",
   "execution_count": 2,
   "metadata": {},
   "outputs": [],
   "source": [
    "import pandas as pd\n",
    "import numpy as np\n",
    "import matplotlib.pyplot as plt \n",
    "import tensorflow as tf\n",
    "from tensorflow import keras\n",
    "from sklearn.metrics import mean_squared_error\n",
    "from sklearn.metrics import r2_score\n",
    "from sklearn.preprocessing import StandardScaler\n",
    "from pandas.plotting import register_matplotlib_converters\n",
    "register_matplotlib_converters()\n",
    "%matplotlib inline"
   ]
  },
  {
   "cell_type": "code",
   "execution_count": 3,
   "metadata": {},
   "outputs": [],
   "source": [
    "sales = pd.read_csv('dataset/sales_dataset.csv', parse_dates=True, index_col=0)"
   ]
  },
  {
   "cell_type": "code",
   "execution_count": 4,
   "metadata": {},
   "outputs": [],
   "source": [
    "target = np.array(sales.Sales)"
   ]
  },
  {
   "cell_type": "code",
   "execution_count": 5,
   "metadata": {},
   "outputs": [],
   "source": [
    "train_target = target[:-9].reshape(-1,1)\n",
    "test_target = target[-9:].reshape(-1,1)"
   ]
  },
  {
   "cell_type": "code",
   "execution_count": 6,
   "metadata": {},
   "outputs": [],
   "source": [
    "scaler = StandardScaler()\n",
    "scaler.fit(train_target)\n",
    "scaledTrainData = scaler.transform(train_target)\n",
    "scaledTestData = scaler.transform(test_target)"
   ]
  },
  {
   "cell_type": "code",
   "execution_count": 7,
   "metadata": {},
   "outputs": [],
   "source": [
    "def create_dataset(X, y, time_steps):\n",
    "    Xs, ys = [], []\n",
    "    for i in range(len(X) - time_steps):\n",
    "        v = X[i:(i + time_steps)]\n",
    "        Xs.append(v)\n",
    "        ys.append(y[i + time_steps])\n",
    "    return np.array(Xs).reshape(-1,time_steps,1), np.array(ys)"
   ]
  },
  {
   "cell_type": "code",
   "execution_count": 8,
   "metadata": {},
   "outputs": [],
   "source": [
    "time_steps=10\n",
    "X_train, y_train = create_dataset(scaledTrainData, scaledTrainData, time_steps)"
   ]
  },
  {
   "cell_type": "code",
   "execution_count": 9,
   "metadata": {},
   "outputs": [
    {
     "data": {
      "text/plain": [
       "((86, 10, 1), (86, 1))"
      ]
     },
     "execution_count": 9,
     "metadata": {},
     "output_type": "execute_result"
    }
   ],
   "source": [
    "X_train.shape, y_train.shape"
   ]
  },
  {
   "cell_type": "code",
   "execution_count": 10,
   "metadata": {},
   "outputs": [],
   "source": [
    "model = keras.Sequential()\n",
    "model.add(keras.layers.LSTM(\n",
    "  units=70,\n",
    "  return_sequences=True,  \n",
    "  input_shape=(X_train.shape[1], X_train.shape[2])\n",
    "))\n",
    "model.add(keras.layers.LSTM(units=70, return_sequences=True))\n",
    "model.add(keras.layers.LSTM(units=70, return_sequences=True))\n",
    "model.add(keras.layers.LSTM(units=70))\n",
    "model.add(keras.layers.Dense(units=1))\n",
    "model.compile(\n",
    "  loss='mean_squared_error',\n",
    "  optimizer=keras.optimizers.Adam(0.001)\n",
    ")"
   ]
  },
  {
   "cell_type": "code",
   "execution_count": 18,
   "metadata": {},
   "outputs": [
    {
     "name": "stdout",
     "output_type": "stream",
     "text": [
      "Train on 77 samples, validate on 9 samples\n",
      "Epoch 1/250\n",
      "77/77 [==============================] - 0s 1ms/sample - loss: 0.0153 - val_loss: 0.1876\n",
      "Epoch 2/250\n",
      "77/77 [==============================] - 0s 1ms/sample - loss: 0.0149 - val_loss: 0.2038\n",
      "Epoch 3/250\n",
      "77/77 [==============================] - 0s 1ms/sample - loss: 0.0149 - val_loss: 0.1935\n",
      "Epoch 4/250\n",
      "77/77 [==============================] - 0s 1ms/sample - loss: 0.0145 - val_loss: 0.2088\n",
      "Epoch 5/250\n",
      "77/77 [==============================] - 0s 1ms/sample - loss: 0.0149 - val_loss: 0.1929\n",
      "Epoch 6/250\n",
      "77/77 [==============================] - 0s 1ms/sample - loss: 0.0142 - val_loss: 0.2149\n",
      "Epoch 7/250\n",
      "77/77 [==============================] - 0s 1ms/sample - loss: 0.0151 - val_loss: 0.1880\n",
      "Epoch 8/250\n",
      "77/77 [==============================] - 0s 1ms/sample - loss: 0.0142 - val_loss: 0.2199\n",
      "Epoch 9/250\n",
      "77/77 [==============================] - 0s 1ms/sample - loss: 0.0154 - val_loss: 0.1833\n",
      "Epoch 10/250\n",
      "77/77 [==============================] - 0s 1ms/sample - loss: 0.0141 - val_loss: 0.2225\n",
      "Epoch 11/250\n",
      "77/77 [==============================] - 0s 1ms/sample - loss: 0.0154 - val_loss: 0.1828\n",
      "Epoch 12/250\n",
      "77/77 [==============================] - 0s 1ms/sample - loss: 0.0139 - val_loss: 0.2235\n",
      "Epoch 13/250\n",
      "77/77 [==============================] - 0s 1ms/sample - loss: 0.0150 - val_loss: 0.1876\n",
      "Epoch 14/250\n",
      "77/77 [==============================] - 0s 1ms/sample - loss: 0.0137 - val_loss: 0.2238\n",
      "Epoch 15/250\n",
      "77/77 [==============================] - 0s 1ms/sample - loss: 0.0146 - val_loss: 0.1958\n",
      "Epoch 16/250\n",
      "77/77 [==============================] - 0s 1ms/sample - loss: 0.0137 - val_loss: 0.2247\n",
      "Epoch 17/250\n",
      "77/77 [==============================] - 0s 1ms/sample - loss: 0.0146 - val_loss: 0.2048\n",
      "Epoch 18/250\n",
      "77/77 [==============================] - 0s 1ms/sample - loss: 0.0141 - val_loss: 0.2267\n",
      "Epoch 19/250\n",
      "77/77 [==============================] - 0s 1ms/sample - loss: 0.0153 - val_loss: 0.2122\n",
      "Epoch 20/250\n",
      "77/77 [==============================] - 0s 1ms/sample - loss: 0.0149 - val_loss: 0.2299\n",
      "Epoch 21/250\n",
      "77/77 [==============================] - 0s 1ms/sample - loss: 0.0168 - val_loss: 0.2168\n",
      "Epoch 22/250\n",
      "77/77 [==============================] - 0s 1ms/sample - loss: 0.0163 - val_loss: 0.2338\n",
      "Epoch 23/250\n",
      "77/77 [==============================] - 0s 1ms/sample - loss: 0.0192 - val_loss: 0.2173\n",
      "Epoch 24/250\n",
      "77/77 [==============================] - 0s 1ms/sample - loss: 0.0181 - val_loss: 0.2380\n",
      "Epoch 25/250\n",
      "77/77 [==============================] - 0s 1ms/sample - loss: 0.0217 - val_loss: 0.2129\n",
      "Epoch 26/250\n",
      "77/77 [==============================] - 0s 1ms/sample - loss: 0.0191 - val_loss: 0.2422\n",
      "Epoch 27/250\n",
      "77/77 [==============================] - 0s 1ms/sample - loss: 0.0224 - val_loss: 0.2055\n",
      "Epoch 28/250\n",
      "77/77 [==============================] - 0s 1ms/sample - loss: 0.0182 - val_loss: 0.2458\n",
      "Epoch 29/250\n",
      "77/77 [==============================] - 0s 1ms/sample - loss: 0.0191 - val_loss: 0.2020\n",
      "Epoch 30/250\n",
      "77/77 [==============================] - 0s 1ms/sample - loss: 0.0151 - val_loss: 0.2492\n",
      "Epoch 31/250\n",
      "77/77 [==============================] - 0s 1ms/sample - loss: 0.0142 - val_loss: 0.2106\n",
      "Epoch 32/250\n",
      "77/77 [==============================] - 0s 1ms/sample - loss: 0.0126 - val_loss: 0.2511\n",
      "Epoch 33/250\n",
      "77/77 [==============================] - 0s 1ms/sample - loss: 0.0122 - val_loss: 0.2283\n",
      "Epoch 34/250\n",
      "77/77 [==============================] - 0s 1ms/sample - loss: 0.0116 - val_loss: 0.2560\n",
      "Epoch 35/250\n",
      "77/77 [==============================] - 0s 1ms/sample - loss: 0.0113 - val_loss: 0.2430\n",
      "Epoch 36/250\n",
      "77/77 [==============================] - 0s 1ms/sample - loss: 0.0110 - val_loss: 0.2623\n",
      "Epoch 37/250\n",
      "77/77 [==============================] - 0s 1ms/sample - loss: 0.0108 - val_loss: 0.2514\n",
      "Epoch 38/250\n",
      "77/77 [==============================] - 0s 1ms/sample - loss: 0.0106 - val_loss: 0.2708\n",
      "Epoch 39/250\n",
      "77/77 [==============================] - 0s 1ms/sample - loss: 0.0106 - val_loss: 0.2576\n",
      "Epoch 40/250\n",
      "77/77 [==============================] - 0s 1ms/sample - loss: 0.0104 - val_loss: 0.2780\n",
      "Epoch 41/250\n",
      "77/77 [==============================] - 0s 1ms/sample - loss: 0.0105 - val_loss: 0.2625\n",
      "Epoch 42/250\n",
      "77/77 [==============================] - 0s 1ms/sample - loss: 0.0104 - val_loss: 0.2844\n",
      "Epoch 43/250\n",
      "77/77 [==============================] - 0s 1ms/sample - loss: 0.0106 - val_loss: 0.2662\n",
      "Epoch 44/250\n",
      "77/77 [==============================] - 0s 1ms/sample - loss: 0.0105 - val_loss: 0.2896\n",
      "Epoch 45/250\n",
      "77/77 [==============================] - 0s 1ms/sample - loss: 0.0109 - val_loss: 0.2668\n",
      "Epoch 46/250\n",
      "77/77 [==============================] - 0s 1ms/sample - loss: 0.0109 - val_loss: 0.2930\n",
      "Epoch 47/250\n",
      "77/77 [==============================] - 0s 1ms/sample - loss: 0.0116 - val_loss: 0.2614\n",
      "Epoch 48/250\n",
      "77/77 [==============================] - 0s 1ms/sample - loss: 0.0116 - val_loss: 0.2938\n",
      "Epoch 49/250\n",
      "77/77 [==============================] - 0s 1ms/sample - loss: 0.0129 - val_loss: 0.2465\n",
      "Epoch 50/250\n",
      "77/77 [==============================] - 0s 1ms/sample - loss: 0.0123 - val_loss: 0.2922\n",
      "Epoch 51/250\n",
      "77/77 [==============================] - 0s 1ms/sample - loss: 0.0143 - val_loss: 0.2254\n",
      "Epoch 52/250\n",
      "77/77 [==============================] - 0s 1ms/sample - loss: 0.0128 - val_loss: 0.2898\n",
      "Epoch 53/250\n",
      "77/77 [==============================] - 0s 1ms/sample - loss: 0.0155 - val_loss: 0.2100\n",
      "Epoch 54/250\n",
      "77/77 [==============================] - 0s 1ms/sample - loss: 0.0133 - val_loss: 0.2873\n",
      "Epoch 55/250\n",
      "77/77 [==============================] - 0s 1ms/sample - loss: 0.0163 - val_loss: 0.2119\n",
      "Epoch 56/250\n",
      "77/77 [==============================] - 0s 1ms/sample - loss: 0.0154 - val_loss: 0.2829\n",
      "Epoch 57/250\n",
      "77/77 [==============================] - 0s 1ms/sample - loss: 0.0168 - val_loss: 0.2363\n",
      "Epoch 58/250\n",
      "77/77 [==============================] - 0s 1ms/sample - loss: 0.0176 - val_loss: 0.2766\n",
      "Epoch 59/250\n",
      "77/77 [==============================] - 0s 1ms/sample - loss: 0.0180 - val_loss: 0.2711\n",
      "Epoch 60/250\n",
      "77/77 [==============================] - 0s 1ms/sample - loss: 0.0189 - val_loss: 0.2808\n",
      "Epoch 61/250\n",
      "77/77 [==============================] - 0s 1ms/sample - loss: 0.0237 - val_loss: 0.2822\n",
      "Epoch 62/250\n",
      "77/77 [==============================] - 0s 1ms/sample - loss: 0.0207 - val_loss: 0.3047\n",
      "Epoch 63/250\n",
      "77/77 [==============================] - 0s 1ms/sample - loss: 0.0256 - val_loss: 0.2575\n",
      "Epoch 64/250\n",
      "77/77 [==============================] - 0s 1ms/sample - loss: 0.0200 - val_loss: 0.3226\n",
      "Epoch 65/250\n",
      "77/77 [==============================] - 0s 1ms/sample - loss: 0.0215 - val_loss: 0.2364\n",
      "Epoch 66/250\n",
      "77/77 [==============================] - 0s 1ms/sample - loss: 0.0139 - val_loss: 0.3183\n",
      "Epoch 67/250\n",
      "77/77 [==============================] - 0s 1ms/sample - loss: 0.0120 - val_loss: 0.2370\n",
      "Epoch 68/250\n",
      "77/77 [==============================] - 0s 1ms/sample - loss: 0.0096 - val_loss: 0.3015\n",
      "Epoch 69/250\n",
      "77/77 [==============================] - 0s 1ms/sample - loss: 0.0097 - val_loss: 0.2774\n",
      "Epoch 70/250\n",
      "77/77 [==============================] - 0s 1ms/sample - loss: 0.0094 - val_loss: 0.3031\n",
      "Epoch 71/250\n",
      "77/77 [==============================] - 0s 1ms/sample - loss: 0.0089 - val_loss: 0.3146\n",
      "Epoch 72/250\n",
      "77/77 [==============================] - 0s 1ms/sample - loss: 0.0086 - val_loss: 0.3144\n",
      "Epoch 73/250\n",
      "77/77 [==============================] - 0s 1ms/sample - loss: 0.0081 - val_loss: 0.3293\n",
      "Epoch 74/250\n",
      "77/77 [==============================] - 0s 1ms/sample - loss: 0.0080 - val_loss: 0.3308\n",
      "Epoch 75/250\n",
      "77/77 [==============================] - 0s 1ms/sample - loss: 0.0078 - val_loss: 0.3389\n",
      "Epoch 76/250\n",
      "77/77 [==============================] - 0s 1ms/sample - loss: 0.0077 - val_loss: 0.3461\n",
      "Epoch 77/250\n",
      "77/77 [==============================] - 0s 1ms/sample - loss: 0.0076 - val_loss: 0.3524\n",
      "Epoch 78/250\n",
      "77/77 [==============================] - 0s 1ms/sample - loss: 0.0074 - val_loss: 0.3607\n",
      "Epoch 79/250\n",
      "77/77 [==============================] - 0s 1ms/sample - loss: 0.0073 - val_loss: 0.3648\n",
      "Epoch 80/250\n",
      "77/77 [==============================] - 0s 1ms/sample - loss: 0.0072 - val_loss: 0.3738\n"
     ]
    },
    {
     "name": "stdout",
     "output_type": "stream",
     "text": [
      "Epoch 81/250\n",
      "77/77 [==============================] - 0s 1ms/sample - loss: 0.0071 - val_loss: 0.3785\n",
      "Epoch 82/250\n",
      "77/77 [==============================] - 0s 1ms/sample - loss: 0.0069 - val_loss: 0.3906\n",
      "Epoch 83/250\n",
      "77/77 [==============================] - 0s 1ms/sample - loss: 0.0069 - val_loss: 0.3897\n",
      "Epoch 84/250\n",
      "77/77 [==============================] - 0s 1ms/sample - loss: 0.0068 - val_loss: 0.4119\n",
      "Epoch 85/250\n",
      "77/77 [==============================] - 0s 1ms/sample - loss: 0.0069 - val_loss: 0.3883\n",
      "Epoch 86/250\n",
      "77/77 [==============================] - 0s 1ms/sample - loss: 0.0075 - val_loss: 0.4431\n",
      "Epoch 87/250\n",
      "77/77 [==============================] - 0s 1ms/sample - loss: 0.0096 - val_loss: 0.3385\n",
      "Epoch 88/250\n",
      "77/77 [==============================] - 0s 1ms/sample - loss: 0.0154 - val_loss: 0.4005\n",
      "Epoch 89/250\n",
      "77/77 [==============================] - 0s 1ms/sample - loss: 0.0170 - val_loss: 0.2863\n",
      "Epoch 90/250\n",
      "77/77 [==============================] - 0s 1ms/sample - loss: 0.0199 - val_loss: 0.2276\n",
      "Epoch 91/250\n",
      "77/77 [==============================] - 0s 1ms/sample - loss: 0.0153 - val_loss: 0.3165\n",
      "Epoch 92/250\n",
      "77/77 [==============================] - 0s 1ms/sample - loss: 0.0192 - val_loss: 0.2119\n",
      "Epoch 93/250\n",
      "77/77 [==============================] - 0s 1ms/sample - loss: 0.0149 - val_loss: 0.3426\n",
      "Epoch 94/250\n",
      "77/77 [==============================] - 0s 1ms/sample - loss: 0.0172 - val_loss: 0.1897\n",
      "Epoch 95/250\n",
      "77/77 [==============================] - 0s 1ms/sample - loss: 0.0137 - val_loss: 0.3311\n",
      "Epoch 96/250\n",
      "77/77 [==============================] - 0s 1ms/sample - loss: 0.0138 - val_loss: 0.2506\n",
      "Epoch 97/250\n",
      "77/77 [==============================] - 0s 1ms/sample - loss: 0.0147 - val_loss: 0.3238\n",
      "Epoch 98/250\n",
      "77/77 [==============================] - 0s 1ms/sample - loss: 0.0123 - val_loss: 0.3161\n",
      "Epoch 99/250\n",
      "77/77 [==============================] - 0s 1ms/sample - loss: 0.0120 - val_loss: 0.3221\n",
      "Epoch 100/250\n",
      "77/77 [==============================] - 0s 1ms/sample - loss: 0.0085 - val_loss: 0.3527\n",
      "Epoch 101/250\n",
      "77/77 [==============================] - 0s 1ms/sample - loss: 0.0074 - val_loss: 0.3266\n",
      "Epoch 102/250\n",
      "77/77 [==============================] - 0s 1ms/sample - loss: 0.0068 - val_loss: 0.3667\n",
      "Epoch 103/250\n",
      "77/77 [==============================] - 0s 1ms/sample - loss: 0.0066 - val_loss: 0.3559\n",
      "Epoch 104/250\n",
      "77/77 [==============================] - 0s 1ms/sample - loss: 0.0063 - val_loss: 0.3797\n",
      "Epoch 105/250\n",
      "77/77 [==============================] - 0s 1ms/sample - loss: 0.0060 - val_loss: 0.3852\n",
      "Epoch 106/250\n",
      "77/77 [==============================] - 0s 1ms/sample - loss: 0.0061 - val_loss: 0.3864\n",
      "Epoch 107/250\n",
      "77/77 [==============================] - 0s 1ms/sample - loss: 0.0063 - val_loss: 0.4024\n",
      "Epoch 108/250\n",
      "77/77 [==============================] - 0s 1ms/sample - loss: 0.0072 - val_loss: 0.3756\n",
      "Epoch 109/250\n",
      "77/77 [==============================] - 0s 1ms/sample - loss: 0.0093 - val_loss: 0.3940\n",
      "Epoch 110/250\n",
      "77/77 [==============================] - 0s 1ms/sample - loss: 0.0113 - val_loss: 0.3335\n",
      "Epoch 111/250\n",
      "77/77 [==============================] - 0s 1ms/sample - loss: 0.0164 - val_loss: 0.2800\n",
      "Epoch 112/250\n",
      "77/77 [==============================] - 0s 1ms/sample - loss: 0.0121 - val_loss: 0.3250\n",
      "Epoch 113/250\n",
      "77/77 [==============================] - 0s 1ms/sample - loss: 0.0132 - val_loss: 0.2272\n",
      "Epoch 114/250\n",
      "77/77 [==============================] - 0s 1ms/sample - loss: 0.0103 - val_loss: 0.3386\n",
      "Epoch 115/250\n",
      "77/77 [==============================] - 0s 1ms/sample - loss: 0.0148 - val_loss: 0.2282\n",
      "Epoch 116/250\n",
      "77/77 [==============================] - 0s 1ms/sample - loss: 0.0122 - val_loss: 0.3248\n",
      "Epoch 117/250\n",
      "77/77 [==============================] - 0s 1ms/sample - loss: 0.0207 - val_loss: 0.2318\n",
      "Epoch 118/250\n",
      "77/77 [==============================] - 0s 1ms/sample - loss: 0.0220 - val_loss: 0.3447\n",
      "Epoch 119/250\n",
      "77/77 [==============================] - 0s 1ms/sample - loss: 0.0172 - val_loss: 0.3108\n",
      "Epoch 120/250\n",
      "77/77 [==============================] - 0s 1ms/sample - loss: 0.0206 - val_loss: 0.3375\n",
      "Epoch 121/250\n",
      "77/77 [==============================] - 0s 1ms/sample - loss: 0.0275 - val_loss: 0.3261\n",
      "Epoch 122/250\n",
      "77/77 [==============================] - 0s 1ms/sample - loss: 0.0189 - val_loss: 0.3588\n",
      "Epoch 123/250\n",
      "77/77 [==============================] - 0s 1ms/sample - loss: 0.0189 - val_loss: 0.3152\n",
      "Epoch 124/250\n",
      "77/77 [==============================] - 0s 1ms/sample - loss: 0.0122 - val_loss: 0.3892\n",
      "Epoch 125/250\n",
      "77/77 [==============================] - 0s 1ms/sample - loss: 0.0084 - val_loss: 0.3185\n",
      "Epoch 126/250\n",
      "77/77 [==============================] - 0s 1ms/sample - loss: 0.0062 - val_loss: 0.3682\n",
      "Epoch 127/250\n",
      "77/77 [==============================] - 0s 1ms/sample - loss: 0.0062 - val_loss: 0.3353\n",
      "Epoch 128/250\n",
      "77/77 [==============================] - 0s 1ms/sample - loss: 0.0057 - val_loss: 0.3687\n",
      "Epoch 129/250\n",
      "77/77 [==============================] - 0s 1ms/sample - loss: 0.0051 - val_loss: 0.3718\n",
      "Epoch 130/250\n",
      "77/77 [==============================] - 0s 1ms/sample - loss: 0.0048 - val_loss: 0.3742\n",
      "Epoch 131/250\n",
      "77/77 [==============================] - 0s 1ms/sample - loss: 0.0046 - val_loss: 0.3842\n",
      "Epoch 132/250\n",
      "77/77 [==============================] - 0s 1ms/sample - loss: 0.0044 - val_loss: 0.3984\n",
      "Epoch 133/250\n",
      "77/77 [==============================] - 0s 1ms/sample - loss: 0.0042 - val_loss: 0.4067\n",
      "Epoch 134/250\n",
      "77/77 [==============================] - 0s 1ms/sample - loss: 0.0041 - val_loss: 0.4052\n",
      "Epoch 135/250\n",
      "77/77 [==============================] - 0s 1ms/sample - loss: 0.0041 - val_loss: 0.4246\n",
      "Epoch 136/250\n",
      "77/77 [==============================] - 0s 1ms/sample - loss: 0.0042 - val_loss: 0.4052\n",
      "Epoch 137/250\n",
      "77/77 [==============================] - 0s 1ms/sample - loss: 0.0050 - val_loss: 0.4532\n",
      "Epoch 138/250\n",
      "77/77 [==============================] - 0s 1ms/sample - loss: 0.0080 - val_loss: 0.3426\n",
      "Epoch 139/250\n",
      "77/77 [==============================] - 0s 1ms/sample - loss: 0.0177 - val_loss: 0.3615\n",
      "Epoch 140/250\n",
      "77/77 [==============================] - 0s 1ms/sample - loss: 0.0160 - val_loss: 0.2799\n",
      "Epoch 141/250\n",
      "77/77 [==============================] - 0s 1ms/sample - loss: 0.0153 - val_loss: 0.1834\n",
      "Epoch 142/250\n",
      "77/77 [==============================] - 0s 1ms/sample - loss: 0.0094 - val_loss: 0.3317\n",
      "Epoch 143/250\n",
      "77/77 [==============================] - 0s 1ms/sample - loss: 0.0108 - val_loss: 0.2450\n",
      "Epoch 144/250\n",
      "77/77 [==============================] - 0s 1ms/sample - loss: 0.0098 - val_loss: 0.3314\n",
      "Epoch 145/250\n",
      "77/77 [==============================] - 0s 1ms/sample - loss: 0.0095 - val_loss: 0.2455\n",
      "Epoch 146/250\n",
      "77/77 [==============================] - 0s 1ms/sample - loss: 0.0066 - val_loss: 0.3329\n",
      "Epoch 147/250\n",
      "77/77 [==============================] - 0s 1ms/sample - loss: 0.0050 - val_loss: 0.3152\n",
      "Epoch 148/250\n",
      "77/77 [==============================] - 0s 1ms/sample - loss: 0.0042 - val_loss: 0.3329\n",
      "Epoch 149/250\n",
      "77/77 [==============================] - 0s 1ms/sample - loss: 0.0041 - val_loss: 0.3531\n",
      "Epoch 150/250\n",
      "77/77 [==============================] - 0s 1ms/sample - loss: 0.0043 - val_loss: 0.3474\n",
      "Epoch 151/250\n",
      "77/77 [==============================] - 0s 1ms/sample - loss: 0.0043 - val_loss: 0.3701\n",
      "Epoch 152/250\n",
      "77/77 [==============================] - 0s 1ms/sample - loss: 0.0043 - val_loss: 0.3642\n",
      "Epoch 153/250\n",
      "77/77 [==============================] - 0s 1ms/sample - loss: 0.0045 - val_loss: 0.3859\n",
      "Epoch 154/250\n",
      "77/77 [==============================] - 0s 1ms/sample - loss: 0.0044 - val_loss: 0.3798\n",
      "Epoch 155/250\n",
      "77/77 [==============================] - 0s 1ms/sample - loss: 0.0049 - val_loss: 0.4041\n",
      "Epoch 156/250\n",
      "77/77 [==============================] - 0s 1ms/sample - loss: 0.0055 - val_loss: 0.3715\n",
      "Epoch 157/250\n",
      "77/77 [==============================] - 0s 1ms/sample - loss: 0.0081 - val_loss: 0.3998\n",
      "Epoch 158/250\n",
      "77/77 [==============================] - 0s 1000us/sample - loss: 0.0107 - val_loss: 0.3148\n",
      "Epoch 159/250\n",
      "77/77 [==============================] - 0s 1ms/sample - loss: 0.0172 - val_loss: 0.2586\n",
      "Epoch 160/250\n"
     ]
    },
    {
     "name": "stdout",
     "output_type": "stream",
     "text": [
      "77/77 [==============================] - 0s 1ms/sample - loss: 0.0102 - val_loss: 0.3083\n",
      "Epoch 161/250\n",
      "77/77 [==============================] - 0s 1ms/sample - loss: 0.0095 - val_loss: 0.2429\n",
      "Epoch 162/250\n",
      "77/77 [==============================] - 0s 1ms/sample - loss: 0.0074 - val_loss: 0.3544\n",
      "Epoch 163/250\n",
      "77/77 [==============================] - 0s 1ms/sample - loss: 0.0092 - val_loss: 0.2842\n",
      "Epoch 164/250\n",
      "77/77 [==============================] - 0s 1ms/sample - loss: 0.0093 - val_loss: 0.3136\n",
      "Epoch 165/250\n",
      "77/77 [==============================] - 0s 1ms/sample - loss: 0.0132 - val_loss: 0.2641\n",
      "Epoch 166/250\n",
      "77/77 [==============================] - 0s 1ms/sample - loss: 0.0147 - val_loss: 0.3336\n",
      "Epoch 167/250\n",
      "77/77 [==============================] - 0s 1ms/sample - loss: 0.0143 - val_loss: 0.3394\n",
      "Epoch 168/250\n",
      "77/77 [==============================] - 0s 1ms/sample - loss: 0.0148 - val_loss: 0.3488\n",
      "Epoch 169/250\n",
      "77/77 [==============================] - 0s 1ms/sample - loss: 0.0192 - val_loss: 0.3335\n",
      "Epoch 170/250\n",
      "77/77 [==============================] - 0s 1ms/sample - loss: 0.0160 - val_loss: 0.3519\n",
      "Epoch 171/250\n",
      "77/77 [==============================] - 0s 1ms/sample - loss: 0.0178 - val_loss: 0.2999\n",
      "Epoch 172/250\n",
      "77/77 [==============================] - 0s 1ms/sample - loss: 0.0099 - val_loss: 0.3574\n",
      "Epoch 173/250\n",
      "77/77 [==============================] - 0s 1ms/sample - loss: 0.0070 - val_loss: 0.2739\n",
      "Epoch 174/250\n",
      "77/77 [==============================] - 0s 1ms/sample - loss: 0.0046 - val_loss: 0.3324\n",
      "Epoch 175/250\n",
      "77/77 [==============================] - 0s 1ms/sample - loss: 0.0040 - val_loss: 0.3108\n",
      "Epoch 176/250\n",
      "77/77 [==============================] - 0s 1ms/sample - loss: 0.0036 - val_loss: 0.3503\n",
      "Epoch 177/250\n",
      "77/77 [==============================] - 0s 1ms/sample - loss: 0.0032 - val_loss: 0.3417\n",
      "Epoch 178/250\n",
      "77/77 [==============================] - 0s 1ms/sample - loss: 0.0031 - val_loss: 0.3431\n",
      "Epoch 179/250\n",
      "77/77 [==============================] - 0s 1ms/sample - loss: 0.0026 - val_loss: 0.3497\n",
      "Epoch 180/250\n",
      "77/77 [==============================] - 0s 1ms/sample - loss: 0.0025 - val_loss: 0.3627\n",
      "Epoch 181/250\n",
      "77/77 [==============================] - 0s 1ms/sample - loss: 0.0025 - val_loss: 0.3691\n",
      "Epoch 182/250\n",
      "77/77 [==============================] - 0s 1ms/sample - loss: 0.0025 - val_loss: 0.3696\n",
      "Epoch 183/250\n",
      "77/77 [==============================] - 0s 1ms/sample - loss: 0.0028 - val_loss: 0.3807\n",
      "Epoch 184/250\n",
      "77/77 [==============================] - 0s 1ms/sample - loss: 0.0036 - val_loss: 0.3538\n",
      "Epoch 185/250\n",
      "77/77 [==============================] - 0s 1ms/sample - loss: 0.0057 - val_loss: 0.3744\n",
      "Epoch 186/250\n",
      "77/77 [==============================] - 0s 1ms/sample - loss: 0.0080 - val_loss: 0.3127\n",
      "Epoch 187/250\n",
      "77/77 [==============================] - 0s 1ms/sample - loss: 0.0128 - val_loss: 0.2705\n",
      "Epoch 188/250\n",
      "77/77 [==============================] - 0s 1ms/sample - loss: 0.0078 - val_loss: 0.3032\n",
      "Epoch 189/250\n",
      "77/77 [==============================] - 0s 1ms/sample - loss: 0.0059 - val_loss: 0.2419\n",
      "Epoch 190/250\n",
      "77/77 [==============================] - 0s 1ms/sample - loss: 0.0050 - val_loss: 0.3468\n",
      "Epoch 191/250\n",
      "77/77 [==============================] - 0s 1ms/sample - loss: 0.0050 - val_loss: 0.2853\n",
      "Epoch 192/250\n",
      "77/77 [==============================] - 0s 1ms/sample - loss: 0.0046 - val_loss: 0.3187\n",
      "Epoch 193/250\n",
      "77/77 [==============================] - 0s 1ms/sample - loss: 0.0035 - val_loss: 0.2775\n",
      "Epoch 194/250\n",
      "77/77 [==============================] - 0s 1ms/sample - loss: 0.0025 - val_loss: 0.3244\n",
      "Epoch 195/250\n",
      "77/77 [==============================] - 0s 1ms/sample - loss: 0.0021 - val_loss: 0.3216\n",
      "Epoch 196/250\n",
      "77/77 [==============================] - 0s 1ms/sample - loss: 0.0020 - val_loss: 0.3435\n",
      "Epoch 197/250\n",
      "77/77 [==============================] - 0s 1ms/sample - loss: 0.0019 - val_loss: 0.3418\n",
      "Epoch 198/250\n",
      "77/77 [==============================] - 0s 1ms/sample - loss: 0.0019 - val_loss: 0.3455\n",
      "Epoch 199/250\n",
      "77/77 [==============================] - 0s 1ms/sample - loss: 0.0020 - val_loss: 0.3516\n",
      "Epoch 200/250\n",
      "77/77 [==============================] - 0s 1ms/sample - loss: 0.0021 - val_loss: 0.3497\n",
      "Epoch 201/250\n",
      "77/77 [==============================] - 0s 1ms/sample - loss: 0.0027 - val_loss: 0.3676\n",
      "Epoch 202/250\n",
      "77/77 [==============================] - 0s 1ms/sample - loss: 0.0037 - val_loss: 0.3336\n",
      "Epoch 203/250\n",
      "77/77 [==============================] - 0s 1ms/sample - loss: 0.0064 - val_loss: 0.3472\n",
      "Epoch 204/250\n",
      "77/77 [==============================] - 0s 1ms/sample - loss: 0.0080 - val_loss: 0.2929\n",
      "Epoch 205/250\n",
      "77/77 [==============================] - 0s 1ms/sample - loss: 0.0106 - val_loss: 0.2440\n",
      "Epoch 206/250\n",
      "77/77 [==============================] - 0s 1ms/sample - loss: 0.0056 - val_loss: 0.2985\n",
      "Epoch 207/250\n",
      "77/77 [==============================] - 0s 1ms/sample - loss: 0.0041 - val_loss: 0.2493\n",
      "Epoch 208/250\n",
      "77/77 [==============================] - 0s 1ms/sample - loss: 0.0040 - val_loss: 0.3327\n",
      "Epoch 209/250\n",
      "77/77 [==============================] - 0s 1ms/sample - loss: 0.0046 - val_loss: 0.2716\n",
      "Epoch 210/250\n",
      "77/77 [==============================] - 0s 1ms/sample - loss: 0.0051 - val_loss: 0.3061\n",
      "Epoch 211/250\n",
      "77/77 [==============================] - 0s 1ms/sample - loss: 0.0047 - val_loss: 0.2623\n",
      "Epoch 212/250\n",
      "77/77 [==============================] - 0s 1ms/sample - loss: 0.0040 - val_loss: 0.3209\n",
      "Epoch 213/250\n",
      "77/77 [==============================] - 0s 1ms/sample - loss: 0.0027 - val_loss: 0.3075\n",
      "Epoch 214/250\n",
      "77/77 [==============================] - 0s 1ms/sample - loss: 0.0021 - val_loss: 0.3289\n",
      "Epoch 215/250\n",
      "77/77 [==============================] - 0s 1ms/sample - loss: 0.0016 - val_loss: 0.3188\n",
      "Epoch 216/250\n",
      "77/77 [==============================] - 0s 1ms/sample - loss: 0.0015 - val_loss: 0.3310\n",
      "Epoch 217/250\n",
      "77/77 [==============================] - 0s 1ms/sample - loss: 0.0016 - val_loss: 0.3322\n",
      "Epoch 218/250\n",
      "77/77 [==============================] - 0s 1ms/sample - loss: 0.0018 - val_loss: 0.3366\n",
      "Epoch 219/250\n",
      "77/77 [==============================] - 0s 1ms/sample - loss: 0.0026 - val_loss: 0.3409\n",
      "Epoch 220/250\n",
      "77/77 [==============================] - 0s 1ms/sample - loss: 0.0036 - val_loss: 0.3172\n",
      "Epoch 221/250\n",
      "77/77 [==============================] - 0s 1ms/sample - loss: 0.0059 - val_loss: 0.3108\n",
      "Epoch 222/250\n",
      "77/77 [==============================] - 0s 1ms/sample - loss: 0.0062 - val_loss: 0.2907\n",
      "Epoch 223/250\n",
      "77/77 [==============================] - 0s 1ms/sample - loss: 0.0067 - val_loss: 0.2517\n",
      "Epoch 224/250\n",
      "77/77 [==============================] - 0s 1ms/sample - loss: 0.0046 - val_loss: 0.3032\n",
      "Epoch 225/250\n",
      "77/77 [==============================] - 0s 1ms/sample - loss: 0.0055 - val_loss: 0.2544\n",
      "Epoch 226/250\n",
      "77/77 [==============================] - 0s 1ms/sample - loss: 0.0082 - val_loss: 0.3221\n",
      "Epoch 227/250\n",
      "77/77 [==============================] - 0s 1ms/sample - loss: 0.0125 - val_loss: 0.2561\n",
      "Epoch 228/250\n",
      "77/77 [==============================] - 0s 1ms/sample - loss: 0.0162 - val_loss: 0.3325\n",
      "Epoch 229/250\n",
      "77/77 [==============================] - 0s 1ms/sample - loss: 0.0184 - val_loss: 0.2867\n",
      "Epoch 230/250\n",
      "77/77 [==============================] - 0s 1ms/sample - loss: 0.0354 - val_loss: 0.3714\n",
      "Epoch 231/250\n",
      "77/77 [==============================] - 0s 1ms/sample - loss: 0.0753 - val_loss: 0.3959\n",
      "Epoch 232/250\n",
      "77/77 [==============================] - 0s 1ms/sample - loss: 0.1509 - val_loss: 0.5043\n",
      "Epoch 233/250\n",
      "77/77 [==============================] - 0s 1ms/sample - loss: 0.0923 - val_loss: 0.3364\n",
      "Epoch 234/250\n",
      "77/77 [==============================] - 0s 1ms/sample - loss: 0.0832 - val_loss: 0.1763\n",
      "Epoch 235/250\n",
      "77/77 [==============================] - 0s 1ms/sample - loss: 0.0356 - val_loss: 0.0976\n",
      "Epoch 236/250\n",
      "77/77 [==============================] - 0s 1ms/sample - loss: 0.0286 - val_loss: 0.0881\n",
      "Epoch 237/250\n",
      "77/77 [==============================] - 0s 1ms/sample - loss: 0.0239 - val_loss: 0.1927\n",
      "Epoch 238/250\n",
      "77/77 [==============================] - 0s 1ms/sample - loss: 0.0140 - val_loss: 0.1491\n",
      "Epoch 239/250\n"
     ]
    },
    {
     "name": "stdout",
     "output_type": "stream",
     "text": [
      "77/77 [==============================] - 0s 1ms/sample - loss: 0.0090 - val_loss: 0.1552\n",
      "Epoch 240/250\n",
      "77/77 [==============================] - 0s 1ms/sample - loss: 0.0070 - val_loss: 0.1467\n",
      "Epoch 241/250\n",
      "77/77 [==============================] - 0s 1ms/sample - loss: 0.0053 - val_loss: 0.1494\n",
      "Epoch 242/250\n",
      "77/77 [==============================] - 0s 1ms/sample - loss: 0.0042 - val_loss: 0.1731\n",
      "Epoch 243/250\n",
      "77/77 [==============================] - 0s 1ms/sample - loss: 0.0039 - val_loss: 0.1706\n",
      "Epoch 244/250\n",
      "77/77 [==============================] - 0s 1ms/sample - loss: 0.0032 - val_loss: 0.1618\n",
      "Epoch 245/250\n",
      "77/77 [==============================] - 0s 1ms/sample - loss: 0.0029 - val_loss: 0.1695\n",
      "Epoch 246/250\n",
      "77/77 [==============================] - 0s 1ms/sample - loss: 0.0026 - val_loss: 0.1769\n",
      "Epoch 247/250\n",
      "77/77 [==============================] - 0s 1ms/sample - loss: 0.0024 - val_loss: 0.1825\n",
      "Epoch 248/250\n",
      "77/77 [==============================] - 0s 1ms/sample - loss: 0.0022 - val_loss: 0.1919\n",
      "Epoch 249/250\n",
      "77/77 [==============================] - 0s 1ms/sample - loss: 0.0021 - val_loss: 0.1949\n",
      "Epoch 250/250\n",
      "77/77 [==============================] - 0s 1ms/sample - loss: 0.0019 - val_loss: 0.2002\n"
     ]
    }
   ],
   "source": [
    "history = model.fit(\n",
    "    X_train, y_train,\n",
    "    epochs=250,\n",
    "    batch_size=16,\n",
    "    validation_split=0.1,\n",
    "    verbose=1,\n",
    "    shuffle=False\n",
    ")"
   ]
  },
  {
   "cell_type": "code",
   "execution_count": 19,
   "metadata": {},
   "outputs": [],
   "source": [
    "ypred = []\n",
    "for i in range(len(scaledTestData)):\n",
    "    if i == 0:\n",
    "        ypred.append(model.predict(scaledTrainData[-10:].reshape(1,time_steps,1)))        \n",
    "    else:\n",
    "        prev_predictions = [x[0][0] for x in ypred]\n",
    "        ypred.append(model.predict(np.concatenate((scaledTrainData[-10+i:].reshape(-1),prev_predictions)) \\\n",
    "                                   .reshape(1,time_steps,1)))  "
   ]
  },
  {
   "cell_type": "code",
   "execution_count": 20,
   "metadata": {},
   "outputs": [
    {
     "data": {
      "text/plain": [
       "[array([[-0.7331423]], dtype=float32),\n",
       " array([[-0.24722612]], dtype=float32),\n",
       " array([[-0.01627074]], dtype=float32),\n",
       " array([[0.16173077]], dtype=float32),\n",
       " array([[0.09084288]], dtype=float32),\n",
       " array([[-0.03786566]], dtype=float32),\n",
       " array([[-0.43703526]], dtype=float32),\n",
       " array([[-1.1611502]], dtype=float32),\n",
       " array([[0.15172382]], dtype=float32)]"
      ]
     },
     "execution_count": 20,
     "metadata": {},
     "output_type": "execute_result"
    }
   ],
   "source": [
    "ypred"
   ]
  },
  {
   "cell_type": "code",
   "execution_count": 21,
   "metadata": {},
   "outputs": [],
   "source": [
    "ypred = [x[0][0] for x in ypred]"
   ]
  },
  {
   "cell_type": "code",
   "execution_count": 22,
   "metadata": {},
   "outputs": [
    {
     "data": {
      "text/plain": [
       "[-0.7331423,\n",
       " -0.24722612,\n",
       " -0.016270744,\n",
       " 0.16173077,\n",
       " 0.09084288,\n",
       " -0.03786566,\n",
       " -0.43703526,\n",
       " -1.1611502,\n",
       " 0.15172382]"
      ]
     },
     "execution_count": 22,
     "metadata": {},
     "output_type": "execute_result"
    }
   ],
   "source": [
    "ypred"
   ]
  },
  {
   "cell_type": "code",
   "execution_count": 23,
   "metadata": {},
   "outputs": [
    {
     "data": {
      "text/plain": [
       "array([2876., 4154., 4761., 5229., 5042., 4704., 3655., 1751., 5202.],\n",
       "      dtype=float32)"
      ]
     },
     "execution_count": 23,
     "metadata": {},
     "output_type": "execute_result"
    }
   ],
   "source": [
    "predictions = np.round(scaler.inverse_transform(ypred))\n",
    "predictions"
   ]
  },
  {
   "cell_type": "code",
   "execution_count": 24,
   "metadata": {},
   "outputs": [
    {
     "data": {
      "text/plain": [
       "689.281348781307"
      ]
     },
     "execution_count": 24,
     "metadata": {},
     "output_type": "execute_result"
    }
   ],
   "source": [
    "np.sqrt(mean_squared_error(test_target,predictions))"
   ]
  },
  {
   "cell_type": "code",
   "execution_count": 25,
   "metadata": {},
   "outputs": [
    {
     "name": "stdout",
     "output_type": "stream",
     "text": [
      "R2 score for LSTM when root mean squared error is minimized is 0.67\n"
     ]
    }
   ],
   "source": [
    "print('R2 score for LSTM when root mean squared error is minimized is %.2f' %r2_score(test_target, predictions))"
   ]
  },
  {
   "cell_type": "code",
   "execution_count": 26,
   "metadata": {
    "scrolled": false
   },
   "outputs": [
    {
     "data": {
      "image/png": "[encoded data removed]",
      "text/plain": [
       "<Figure size 864x432 with 1 Axes>"
      ]
     },
     "metadata": {
      "needs_background": "light"
     },
     "output_type": "display_data"
    }
   ],
   "source": [
    "fig, ax = plt.subplots(figsize=(12,6))\n",
    "\n",
    "ax.plot(sales.index[-9:], sales.Sales[-9:], label='Sales');\n",
    "ax.plot(sales.index[-9:], predictions, label='Predictions');\n",
    "\n",
    "ax.set_xlim(sales.index[-9], sales.index[-1])\n",
    "\n",
    "ax.set_ylabel('Sales', fontsize=12)\n",
    "ax.set_xlabel('Time', fontsize=12)\n",
    "ax.set_title('RNN', fontsize=20)\n",
    "plt.legend(loc='upper left')\n",
    "plt.show()"
   ]
  },
  {
   "cell_type": "markdown",
   "metadata": {},
   "source": [
    "### Conclusion and Results"
   ]
  },
  {
   "cell_type": "markdown",
   "metadata": {},
   "source": [
    "The predictions are done by taking 10 time steps. For the prediciton of sales at 1992-01, the last 10 time steps from the training set are taken. For the prediction of sales at 1992-02, the last 9 time steps from the training set and the last prediction (prediction at 1992-01) are taken. For the prediction of sales at 1992-03, the last 8 time steps from the training set and the last 2 predicitions (predictions at 1992-01 and 1992-02) are taken. This continues untill all the predictions for sales are made for the last months.    "
   ]
  },
  {
   "cell_type": "markdown",
   "metadata": {},
   "source": [
    "The neural network topology designed using LSTM layers results in higher RMSE for the last 9 months compared to exponential smoothing, random forests and SARIMA. However, ridge regression is the model with the highest RMSE. "
   ]
  },
  {
   "cell_type": "markdown",
   "metadata": {},
   "source": [
    "This network can be fiddled with to try to decrease RMSE. Some of the options can be adding more layers, increasing the # of neurons in each layer, adding dropout layers, adding regularization, changing the learning rate and so on. The possible path for following can be decided after figuring out if overfitting or underfitting is the problem. When validation loss is compared with training loss, it seems that overfitting is the problem."
   ]
  },
  {
   "cell_type": "markdown",
   "metadata": {},
   "source": [
    "Since the RNN results are not as good as exponential smoothing results in terms of RMSE measured on the last 9 months, the results are not saved to a csv file. There is not too much training data for deep learning to work well. Deep learning can be a good option when there is abundant data to train on.  "
   ]
  }
 ],
 "metadata": {
  "kernelspec": {
   "display_name": "Python 3",
   "language": "python",
   "name": "python3"
  },
  "language_info": {
   "codemirror_mode": {
    "name": "ipython",
    "version": 3
   },
   "file_extension": ".py",
   "mimetype": "text/x-python",
   "name": "python",
   "nbconvert_exporter": "python",
   "pygments_lexer": "ipython3",
   "version": "3.7.4"
  }
 },
 "nbformat": 4,
 "nbformat_minor": 2
}
